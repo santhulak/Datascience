{
 "cells": [
  {
   "cell_type": "markdown",
   "id": "1f250ab8",
   "metadata": {},
   "source": [
    "# NumPy is a \n",
    "- library for the Python programming language\n",
    "- multi-dimensional arrays and matrices, vectors\n",
    "- large collection of high-level mathematical functions to operate on these arrays\n",
    "\n",
    "# SciPy is a \n",
    "- free and open-source Python library used for scientific computing and technical computing.\n",
    "- contains modules for optimization, linear algebra, integration, interpolation, special functions, FFT, signal and image processing, ODE solvers and other tasks common in science and engineering"
   ]
  },
  {
   "cell_type": "code",
   "execution_count": 1,
   "id": "cde9566a",
   "metadata": {},
   "outputs": [],
   "source": [
    "#!pip install numpy\n",
    "#Importing Numpy \n",
    "import numpy as np"
   ]
  },
  {
   "cell_type": "code",
   "execution_count": 3,
   "id": "3d83d2a4",
   "metadata": {},
   "outputs": [
    {
     "data": {
      "text/plain": [
       "array(8)"
      ]
     },
     "execution_count": 3,
     "metadata": {},
     "output_type": "execute_result"
    }
   ],
   "source": [
    "#creating 0d array- scalar array\n",
    "arr1= np.array(8)\n",
    "arr1\n"
   ]
  },
  {
   "cell_type": "code",
   "execution_count": 4,
   "id": "f4105978",
   "metadata": {},
   "outputs": [
    {
     "data": {
      "text/plain": [
       "array([11, 23, 45, 87])"
      ]
     },
     "execution_count": 4,
     "metadata": {},
     "output_type": "execute_result"
    }
   ],
   "source": [
    "#creating 1 d array\n",
    "a = np.array([11,23,45,87])\n",
    "a\n"
   ]
  },
  {
   "cell_type": "code",
   "execution_count": 7,
   "id": "ba8f8436",
   "metadata": {},
   "outputs": [
    {
     "data": {
      "text/plain": [
       "numpy.ndarray"
      ]
     },
     "execution_count": 7,
     "metadata": {},
     "output_type": "execute_result"
    }
   ],
   "source": [
    "type(a)"
   ]
  },
  {
   "cell_type": "code",
   "execution_count": 4,
   "id": "cd3e878b",
   "metadata": {},
   "outputs": [
    {
     "name": "stdout",
     "output_type": "stream",
     "text": [
      "1\n"
     ]
    }
   ],
   "source": [
    "#Dimension of array\n",
    "print(a.ndim)"
   ]
  },
  {
   "cell_type": "code",
   "execution_count": 6,
   "id": "830be8ce",
   "metadata": {},
   "outputs": [
    {
     "name": "stdout",
     "output_type": "stream",
     "text": [
      "[[1. 2. 3.]\n",
      " [4. 5. 6.]]\n"
     ]
    }
   ],
   "source": [
    "#creating 2d array and change the datype \n",
    "b = np.array([[1,2,3],[4,5,6]],dtype=float)\n",
    "print(b)"
   ]
  },
  {
   "cell_type": "code",
   "execution_count": 6,
   "id": "97385ad6",
   "metadata": {},
   "outputs": [
    {
     "name": "stdout",
     "output_type": "stream",
     "text": [
      "2\n"
     ]
    }
   ],
   "source": [
    "#Dimension of 2d array\n",
    "print(b.ndim)"
   ]
  },
  {
   "cell_type": "code",
   "execution_count": 7,
   "id": "bd205e95",
   "metadata": {},
   "outputs": [
    {
     "name": "stdout",
     "output_type": "stream",
     "text": [
      "[[[ 1.  2.  3.]\n",
      "  [ 4.  5.  6.]]\n",
      "\n",
      " [[ 7.  8.  9.]\n",
      "  [11. 12. 13.]]]\n"
     ]
    }
   ],
   "source": [
    "#creating 3d array\n",
    "c = np.array([[(1,2,3),(4,5,6)],[(7,8,9),(11,12,13)]],dtype=float)\n",
    "print(c)"
   ]
  },
  {
   "cell_type": "code",
   "execution_count": 8,
   "id": "e14ec4bf",
   "metadata": {},
   "outputs": [
    {
     "name": "stdout",
     "output_type": "stream",
     "text": [
      "3\n"
     ]
    }
   ],
   "source": [
    "#Dimension of 3d array\n",
    "print(c.ndim)"
   ]
  },
  {
   "cell_type": "code",
   "execution_count": 8,
   "id": "0e9af8cf",
   "metadata": {},
   "outputs": [
    {
     "data": {
      "text/plain": [
       "array([[[1, 2, 3, 4]]])"
      ]
     },
     "execution_count": 8,
     "metadata": {},
     "output_type": "execute_result"
    }
   ],
   "source": [
    "#Defining number of dimensions \n",
    "x1 = np.array([1, 2, 3, 4], ndmin=3)\n",
    "x1"
   ]
  },
  {
   "cell_type": "code",
   "execution_count": 10,
   "id": "a70adf2f",
   "metadata": {},
   "outputs": [
    {
     "name": "stdout",
     "output_type": "stream",
     "text": [
      "[[0. 0. 0. 0. 0.]\n",
      " [0. 0. 0. 0. 0.]\n",
      " [0. 0. 0. 0. 0.]]\n"
     ]
    }
   ],
   "source": [
    "#creating a array of zeros\n",
    "x=np.zeros((3,5))\n",
    "print(x)"
   ]
  },
  {
   "cell_type": "code",
   "execution_count": 11,
   "id": "e33fca14",
   "metadata": {},
   "outputs": [
    {
     "name": "stdout",
     "output_type": "stream",
     "text": [
      "[[1. 1. 1. 1.]\n",
      " [1. 1. 1. 1.]\n",
      " [1. 1. 1. 1.]]\n"
     ]
    }
   ],
   "source": [
    "#creating a array of ones\n",
    "x=np.ones((3,4))\n",
    "print(x)"
   ]
  },
  {
   "cell_type": "code",
   "execution_count": 14,
   "id": "0d0250ce",
   "metadata": {},
   "outputs": [
    {
     "name": "stdout",
     "output_type": "stream",
     "text": [
      "[[1. 0. 0.]\n",
      " [0. 1. 0.]\n",
      " [0. 0. 1.]]\n"
     ]
    }
   ],
   "source": [
    "#Eye Function:   Returns array filled with zeros except in the kth diagonal, whose values are equal to 1\n",
    "a= np.eye(3)\n",
    "print(a)\n"
   ]
  },
  {
   "cell_type": "code",
   "execution_count": 15,
   "id": "d9b1316a",
   "metadata": {},
   "outputs": [
    {
     "name": "stdout",
     "output_type": "stream",
     "text": [
      "[[1. 0. 0. 0. 0.]\n",
      " [0. 1. 0. 0. 0.]\n",
      " [0. 0. 1. 0. 0.]]\n"
     ]
    }
   ],
   "source": [
    "a= np.eye(3,5)\n",
    "print(a)"
   ]
  },
  {
   "cell_type": "code",
   "execution_count": 76,
   "id": "7d7a1289",
   "metadata": {},
   "outputs": [
    {
     "name": "stdout",
     "output_type": "stream",
     "text": [
      "[[0. 0. 0. 0.]\n",
      " [1. 0. 0. 0.]\n",
      " [0. 1. 0. 0.]\n",
      " [0. 0. 1. 0.]]\n"
     ]
    }
   ],
   "source": [
    "a=np.eye(4,k=-1)\n",
    "print(a)"
   ]
  },
  {
   "cell_type": "code",
   "execution_count": 77,
   "id": "20855b4a",
   "metadata": {},
   "outputs": [
    {
     "name": "stdout",
     "output_type": "stream",
     "text": [
      "[[0. 0. 1. 0. 0.]\n",
      " [0. 0. 0. 1. 0.]\n",
      " [0. 0. 0. 0. 1.]\n",
      " [0. 0. 0. 0. 0.]\n",
      " [0. 0. 0. 0. 0.]]\n"
     ]
    }
   ],
   "source": [
    "a=np.eye(5,k=2)\n",
    "print(a)"
   ]
  },
  {
   "cell_type": "code",
   "execution_count": 78,
   "id": "14ee451c",
   "metadata": {},
   "outputs": [
    {
     "name": "stdout",
     "output_type": "stream",
     "text": [
      "[[1 0 0 0 0]\n",
      " [0 1 0 0 0]\n",
      " [0 0 1 0 0]\n",
      " [0 0 0 1 0]\n",
      " [0 0 0 0 1]]\n"
     ]
    }
   ],
   "source": [
    "a = np.eye(5,dtype=int)\n",
    "print(a)"
   ]
  },
  {
   "cell_type": "code",
   "execution_count": null,
   "id": "4b6f5216",
   "metadata": {},
   "outputs": [],
   "source": []
  },
  {
   "cell_type": "markdown",
   "id": "2d9e35ce",
   "metadata": {},
   "source": [
    "# Acessing array elements"
   ]
  },
  {
   "cell_type": "code",
   "execution_count": 12,
   "id": "398d71cb",
   "metadata": {},
   "outputs": [
    {
     "name": "stdout",
     "output_type": "stream",
     "text": [
      "30\n",
      "80\n",
      "120\n"
     ]
    }
   ],
   "source": [
    "# Accessing 1 d array\n",
    "a = np.array([30, 50, 80, 40])\n",
    "\n",
    "print(a[0])\n",
    "print(a[2])\n",
    "print(a[2] + a[3])"
   ]
  },
  {
   "cell_type": "code",
   "execution_count": 14,
   "id": "5b0c2845",
   "metadata": {},
   "outputs": [
    {
     "name": "stdout",
     "output_type": "stream",
     "text": [
      "2\n"
     ]
    }
   ],
   "source": [
    "#Access 2-D Arrays\n",
    "a=np.array([[1,2,3,4,5], [6,7,8,9,10]])\n",
    "print(a[0,1])"
   ]
  },
  {
   "cell_type": "code",
   "execution_count": 15,
   "id": "eea70cac",
   "metadata": {},
   "outputs": [
    {
     "name": "stdout",
     "output_type": "stream",
     "text": [
      "9\n"
     ]
    }
   ],
   "source": [
    "#Access 3-D Arrays\n",
    "a = np.array([[[1, 2, 3], [4, 5, 6]], [[7, 8, 9], [10, 11, 12]]])\n",
    "\n",
    "print(a[1, 0, 2])"
   ]
  },
  {
   "cell_type": "code",
   "execution_count": 18,
   "id": "2fcb1b1a",
   "metadata": {},
   "outputs": [
    {
     "name": "stdout",
     "output_type": "stream",
     "text": [
      "8\n"
     ]
    }
   ],
   "source": [
    "#Negative Indexing\n",
    "a = np.array([[1,2,3,4,5], [6,7,8,9,10]])\n",
    "\n",
    "print(a[1, -3])"
   ]
  },
  {
   "cell_type": "markdown",
   "id": "5796edb4",
   "metadata": {},
   "source": [
    "# Slicing arrays"
   ]
  },
  {
   "cell_type": "code",
   "execution_count": 19,
   "id": "61932596",
   "metadata": {},
   "outputs": [
    {
     "name": "stdout",
     "output_type": "stream",
     "text": [
      "[10 20 30 40 50]\n",
      "[20 30 40 50 60 70]\n",
      "[10 20 30 40 50 60 70]\n",
      "[40 50 60]\n",
      "[20 40]\n",
      "[10 40 70]\n"
     ]
    }
   ],
   "source": [
    "a = np.array([10, 20, 30, 40,50,60,70])\n",
    "print(a[0:5])\n",
    "print(a[1:])\n",
    "print(a[:7])\n",
    "print(a[-4:-1])\n",
    "print(a[1:5:2])\n",
    "print(a[::3])"
   ]
  },
  {
   "cell_type": "code",
   "execution_count": 20,
   "id": "71cbe0fb",
   "metadata": {},
   "outputs": [
    {
     "name": "stdout",
     "output_type": "stream",
     "text": [
      "[1 2 3 4]\n"
     ]
    }
   ],
   "source": [
    "#Slicing 2-D Arrays\n",
    "a = np.array([[1, 2, 3, 4, 5], [6, 7, 8, 9, 10]])\n",
    "\n",
    "print(a[0, 0:4])"
   ]
  },
  {
   "cell_type": "code",
   "execution_count": 25,
   "id": "871fcbc7",
   "metadata": {},
   "outputs": [
    {
     "name": "stdout",
     "output_type": "stream",
     "text": [
      "[3 8]\n",
      "[[2 3 4]\n",
      " [7 8 9]]\n"
     ]
    }
   ],
   "source": [
    "a = np.array([[1, 2, 3, 4, 5], [6, 7, 8, 9, 10]])\n",
    "\n",
    "print(a[0:2, 2])\n",
    "print(a[0:2, 1:4])"
   ]
  },
  {
   "cell_type": "markdown",
   "id": "a2df47e2",
   "metadata": {},
   "source": [
    "# NumPy Data Types"
   ]
  },
  {
   "cell_type": "markdown",
   "id": "4623464a",
   "metadata": {},
   "source": [
    "- i - integer\n",
    "- b - boolean\n",
    "- u - unsigned integer\n",
    "- f - float\n",
    "- c - complex float\n",
    "- m - timedelta\n",
    "- M - datetime\n",
    "- O - object\n",
    "- S - string\n",
    "- U - unicode string\n",
    "- V - fixed chunk of memory for other type ( void )"
   ]
  },
  {
   "cell_type": "markdown",
   "id": "f2bbb625",
   "metadata": {},
   "source": [
    "*** "
   ]
  },
  {
   "cell_type": "markdown",
   "id": "c1528a90",
   "metadata": {},
   "source": [
    "# Finding dtype of array"
   ]
  },
  {
   "cell_type": "code",
   "execution_count": 19,
   "id": "d21d3cd6",
   "metadata": {},
   "outputs": [
    {
     "name": "stdout",
     "output_type": "stream",
     "text": [
      "int32\n"
     ]
    }
   ],
   "source": [
    "a = np.array([1, 2, 3, 4])\n",
    "print(a.dtype)"
   ]
  },
  {
   "cell_type": "code",
   "execution_count": 20,
   "id": "c04fc62e",
   "metadata": {},
   "outputs": [
    {
     "name": "stdout",
     "output_type": "stream",
     "text": [
      "|S1\n"
     ]
    }
   ],
   "source": [
    "#Create an array with data type string\n",
    "a=np.array([1, 2, 3, 4], dtype='S')\n",
    "print(a.dtype)"
   ]
  },
  {
   "cell_type": "code",
   "execution_count": 23,
   "id": "49d5e7fc",
   "metadata": {},
   "outputs": [
    {
     "name": "stdout",
     "output_type": "stream",
     "text": [
      "int32\n",
      "[1 2 3]\n",
      "bool\n",
      "[ True  True  True]\n"
     ]
    }
   ],
   "source": [
    "#Change data type from float to integer by using int as parameter value\n",
    "a = np.array([1.1, 2.1, 3.1])\n",
    "b= a.astype(int)\n",
    "print(b.dtype)\n",
    "print(b)\n",
    "c=b.astype(bool)\n",
    "print(c.dtype)\n",
    "print(c)"
   ]
  },
  {
   "cell_type": "code",
   "execution_count": 22,
   "id": "2533d485",
   "metadata": {},
   "outputs": [
    {
     "name": "stdout",
     "output_type": "stream",
     "text": [
      "[42  2  3  4  5]\n",
      "[1 2 3 4 5]\n"
     ]
    }
   ],
   "source": [
    "#copy to the array\n",
    "x = np.array([1, 2, 3, 4, 5])\n",
    "y = x.copy()\n",
    "x[0] = 42\n",
    "\n",
    "print(x)\n",
    "print(y)"
   ]
  },
  {
   "cell_type": "code",
   "execution_count": 23,
   "id": "d83baf8e",
   "metadata": {},
   "outputs": [
    {
     "name": "stdout",
     "output_type": "stream",
     "text": [
      "[42  2  3  4  5]\n",
      "[42  2  3  4  5]\n"
     ]
    }
   ],
   "source": [
    "#view is just a view of the original array\n",
    "x = np.array([1, 2, 3, 4, 5])\n",
    "y = x.view()\n",
    "x[0] = 42\n",
    "\n",
    "print(x)\n",
    "print(y)"
   ]
  },
  {
   "cell_type": "markdown",
   "id": "ccc6e73b",
   "metadata": {},
   "source": [
    "# Shape of an Array"
   ]
  },
  {
   "cell_type": "code",
   "execution_count": 24,
   "id": "9c3debca",
   "metadata": {},
   "outputs": [
    {
     "name": "stdout",
     "output_type": "stream",
     "text": [
      "(2, 4)\n"
     ]
    }
   ],
   "source": [
    "a = np.array([[1, 2, 3, 4], [5, 6, 7, 8]])\n",
    "\n",
    "print(a.shape)"
   ]
  },
  {
   "cell_type": "markdown",
   "id": "328d29ae",
   "metadata": {},
   "source": [
    "# Reshaping means changing the shape of an array"
   ]
  },
  {
   "cell_type": "code",
   "execution_count": 5,
   "id": "e68ad620",
   "metadata": {
    "scrolled": true
   },
   "outputs": [
    {
     "name": "stdout",
     "output_type": "stream",
     "text": [
      "[[ 1  2  3]\n",
      " [ 4  5  6]\n",
      " [ 7  8  9]\n",
      " [10 11 12]]\n"
     ]
    }
   ],
   "source": [
    "#Reshape From 1-D to 2-D\n",
    "a= np.array([1, 2, 3, 4, 5, 6, 7, 8, 9, 10, 11, 12])\n",
    "\n",
    "b = a.reshape(4, 3)\n",
    "print(b)"
   ]
  },
  {
   "cell_type": "code",
   "execution_count": 26,
   "id": "2c244eb4",
   "metadata": {},
   "outputs": [
    {
     "name": "stdout",
     "output_type": "stream",
     "text": [
      "[[[ 1  2]\n",
      "  [ 3  4]\n",
      "  [ 5  6]]\n",
      "\n",
      " [[ 7  8]\n",
      "  [ 9 10]\n",
      "  [11 12]]]\n"
     ]
    }
   ],
   "source": [
    "#Reshape From 1-D to 3-D\n",
    "a= np.array([1, 2, 3, 4, 5, 6, 7, 8, 9, 10, 11, 12])\n",
    "\n",
    "b = a.reshape(2, 3, 2)\n",
    "\n",
    "print(b)"
   ]
  },
  {
   "cell_type": "markdown",
   "id": "175b710e",
   "metadata": {},
   "source": [
    "# Flattening the arrays\n",
    "## Flattening array means converting a multidimensional array into a 1D array."
   ]
  },
  {
   "cell_type": "code",
   "execution_count": 27,
   "id": "4107713c",
   "metadata": {},
   "outputs": [
    {
     "name": "stdout",
     "output_type": "stream",
     "text": [
      "[1 2 3 4 5 6]\n"
     ]
    }
   ],
   "source": [
    "a = np.array([[1, 2, 3], [4, 5, 6]])\n",
    "\n",
    "b = a.reshape(-1)\n",
    "\n",
    "print(b)"
   ]
  },
  {
   "cell_type": "markdown",
   "id": "2d3113c3",
   "metadata": {},
   "source": [
    "# Iterating Arrays\n",
    "## Iterating means going through elements one by one.\n"
   ]
  },
  {
   "cell_type": "code",
   "execution_count": 8,
   "id": "c0ee2ef0",
   "metadata": {},
   "outputs": [
    {
     "name": "stdout",
     "output_type": "stream",
     "text": [
      "1\n",
      "2\n",
      "3\n"
     ]
    }
   ],
   "source": [
    "#Iterating 1-D Arrays\n",
    "a = np.array([1, 2, 3])\n",
    "\n",
    "for i in a:\n",
    "  print(i)"
   ]
  },
  {
   "cell_type": "code",
   "execution_count": 29,
   "id": "b8734364",
   "metadata": {},
   "outputs": [
    {
     "name": "stdout",
     "output_type": "stream",
     "text": [
      "1\n",
      "2\n",
      "3\n",
      "4\n",
      "5\n",
      "6\n"
     ]
    }
   ],
   "source": [
    "#Iterating 2-D Arrays\n",
    "a = np.array([[1, 2, 3], [4, 5, 6]])\n",
    "\n",
    "for i in a:\n",
    "    for j in i:\n",
    "        print(j)"
   ]
  },
  {
   "cell_type": "code",
   "execution_count": 10,
   "id": "42514bb6",
   "metadata": {},
   "outputs": [
    {
     "name": "stdout",
     "output_type": "stream",
     "text": [
      "[1 2 3]\n",
      "1\n",
      "2\n",
      "3\n",
      "[4 5 6]\n",
      "4\n",
      "5\n",
      "6\n",
      "[7 8 9]\n",
      "7\n",
      "8\n",
      "9\n",
      "[10 11 12]\n",
      "10\n",
      "11\n",
      "12\n"
     ]
    }
   ],
   "source": [
    "#Iterating 3-D Arrays\n",
    "a = np.array([[[1, 2, 3], [4, 5, 6]], [[7, 8, 9], [10, 11, 12]]])\n",
    "\n",
    "for i in a:\n",
    "    \n",
    "    for j in i:\n",
    "        \n",
    "        for k in j:\n",
    "            print(k)"
   ]
  },
  {
   "cell_type": "code",
   "execution_count": 31,
   "id": "e79b1d0b",
   "metadata": {},
   "outputs": [
    {
     "name": "stdout",
     "output_type": "stream",
     "text": [
      "1\n",
      "2\n",
      "3\n",
      "4\n",
      "5\n",
      "6\n",
      "7\n",
      "8\n"
     ]
    }
   ],
   "source": [
    "#Iterating 3-D Arrays using nditer \n",
    "a = np.array([[[1, 2], [3, 4]], [[5, 6], [7, 8]]])\n",
    "\n",
    "for x in np.nditer(a):\n",
    "  print(x)\n"
   ]
  },
  {
   "cell_type": "code",
   "execution_count": 32,
   "id": "a87eb7c3",
   "metadata": {},
   "outputs": [
    {
     "name": "stdout",
     "output_type": "stream",
     "text": [
      "1\n",
      "3\n",
      "5\n",
      "7\n"
     ]
    }
   ],
   "source": [
    "#Iterate through every scalar element of the 2D array skipping 1 element\n",
    "a = np.array([[1, 2, 3, 4], [5, 6, 7, 8]])\n",
    "\n",
    "for x in np.nditer(a[:, ::2]):\n",
    "  print(x)"
   ]
  },
  {
   "cell_type": "code",
   "execution_count": 11,
   "id": "716f8375",
   "metadata": {},
   "outputs": [
    {
     "name": "stdout",
     "output_type": "stream",
     "text": [
      "(0,) 10\n",
      "(1,) 20\n",
      "(2,) 30\n"
     ]
    }
   ],
   "source": [
    "#Enumerate  1D arrays\n",
    "x = np.array([10, 20, 30])\n",
    "\n",
    "for index,i in np.ndenumerate(x):\n",
    "  print(index, i)"
   ]
  },
  {
   "cell_type": "code",
   "execution_count": 34,
   "id": "033579eb",
   "metadata": {
    "scrolled": true
   },
   "outputs": [
    {
     "name": "stdout",
     "output_type": "stream",
     "text": [
      "(0, 0) 1\n",
      "(0, 1) 2\n",
      "(0, 2) 3\n",
      "(0, 3) 4\n",
      "(1, 0) 5\n",
      "(1, 1) 6\n",
      "(1, 2) 7\n",
      "(1, 3) 8\n"
     ]
    }
   ],
   "source": [
    "#Enumerate 2D array\n",
    "x = np.array([[1, 2, 3, 4], [5, 6, 7, 8]])\n",
    "\n",
    "for index,i in np.ndenumerate(x):\n",
    "  print(index, i)"
   ]
  },
  {
   "cell_type": "markdown",
   "id": "471e44b9",
   "metadata": {},
   "source": [
    "# Joining NumPy Arrays\n",
    "## Merging elements of two or more arrays in a single array."
   ]
  },
  {
   "cell_type": "code",
   "execution_count": 35,
   "id": "ad4bffca",
   "metadata": {},
   "outputs": [
    {
     "name": "stdout",
     "output_type": "stream",
     "text": [
      "[1 2 3 4 5 6]\n"
     ]
    }
   ],
   "source": [
    "x = np.array([1, 2, 3])\n",
    "\n",
    "y = np.array([4, 5, 6])\n",
    "\n",
    "z = np.concatenate((x, y))\n",
    "\n",
    "print(z)\n"
   ]
  },
  {
   "cell_type": "code",
   "execution_count": 12,
   "id": "5b3763ad",
   "metadata": {},
   "outputs": [
    {
     "name": "stdout",
     "output_type": "stream",
     "text": [
      "[[1 2]\n",
      " [3 4]\n",
      " [5 6]\n",
      " [7 8]]\n"
     ]
    }
   ],
   "source": [
    "#Join two 2-D arrays along rows (axis=1)\n",
    "x = np.array([[1, 2], [3, 4]])\n",
    "\n",
    "y = np.array([[5, 6], [7, 8]])\n",
    "\n",
    "z = np.concatenate((x, y), axis=0)\n",
    "\n",
    "print(z)\n"
   ]
  },
  {
   "cell_type": "markdown",
   "id": "4e921891",
   "metadata": {},
   "source": [
    "# Stacking Arrays\n",
    "## Stacking is same as concatenation, the only difference is that stacking is done along a new axis."
   ]
  },
  {
   "cell_type": "code",
   "execution_count": 37,
   "id": "23dbd29d",
   "metadata": {},
   "outputs": [
    {
     "name": "stdout",
     "output_type": "stream",
     "text": [
      "[[1 4]\n",
      " [2 5]\n",
      " [3 6]]\n"
     ]
    }
   ],
   "source": [
    "a = np.array([1, 2, 3])\n",
    "\n",
    "b = np.array([4, 5, 6])\n",
    "\n",
    "c = np.stack((a,b), axis=1)\n",
    "\n",
    "print(c)"
   ]
  },
  {
   "cell_type": "code",
   "execution_count": 38,
   "id": "b28d65eb",
   "metadata": {},
   "outputs": [
    {
     "name": "stdout",
     "output_type": "stream",
     "text": [
      "[1 2 3 4 5 6]\n"
     ]
    }
   ],
   "source": [
    "#Stacking Along Rows\n",
    "a = np.array([1, 2, 3])\n",
    "\n",
    "b = np.array([4, 5, 6])\n",
    "\n",
    "c = np.hstack((a,b))\n",
    "print(c)\n"
   ]
  },
  {
   "cell_type": "code",
   "execution_count": 39,
   "id": "068328fa",
   "metadata": {},
   "outputs": [
    {
     "name": "stdout",
     "output_type": "stream",
     "text": [
      "[[1 2 3]\n",
      " [4 5 6]]\n"
     ]
    }
   ],
   "source": [
    "#Stacking Along Columns\n",
    "a = np.array([1, 2, 3])\n",
    "\n",
    "b = np.array([4, 5, 6])\n",
    "\n",
    "c = np.vstack((a,b))\n",
    "print(c)"
   ]
  },
  {
   "cell_type": "code",
   "execution_count": 40,
   "id": "7353459b",
   "metadata": {},
   "outputs": [
    {
     "name": "stdout",
     "output_type": "stream",
     "text": [
      "[[[1 4]\n",
      "  [2 5]\n",
      "  [3 6]]]\n"
     ]
    }
   ],
   "source": [
    "#Stacking Along Height/Depth\n",
    "a = np.array([1, 2, 3])\n",
    "\n",
    "b = np.array([4, 5, 6])\n",
    "\n",
    "c = np.dstack((a,b))\n",
    "print(c)"
   ]
  },
  {
   "cell_type": "markdown",
   "id": "e544bcfb",
   "metadata": {},
   "source": [
    "# Splitting NumPy Arrays\n",
    "## It is the reverse operation of Joining\n",
    "## Splits single array into multiple"
   ]
  },
  {
   "cell_type": "code",
   "execution_count": 15,
   "id": "d598348e",
   "metadata": {},
   "outputs": [
    {
     "name": "stdout",
     "output_type": "stream",
     "text": [
      "[array([1, 2]), array([3, 4]), array([5]), array([6])]\n"
     ]
    }
   ],
   "source": [
    "a = np.array([1, 2, 3, 4, 5, 6])\n",
    "\n",
    "a1 = np.array_split(a, 4)#If it has les elements it will create blank arrays\n",
    "\n",
    "print(a1)\n"
   ]
  },
  {
   "cell_type": "code",
   "execution_count": 45,
   "id": "d754f367",
   "metadata": {},
   "outputs": [
    {
     "name": "stdout",
     "output_type": "stream",
     "text": [
      "[1]\n",
      "[2]\n",
      "[3]\n"
     ]
    }
   ],
   "source": [
    "print(a1[0])\n",
    "print(a1[1])\n",
    "print(a1[2])\n"
   ]
  },
  {
   "cell_type": "code",
   "execution_count": 48,
   "id": "83874780",
   "metadata": {},
   "outputs": [
    {
     "name": "stdout",
     "output_type": "stream",
     "text": [
      "[array([[1, 2, 3],\n",
      "       [4, 5, 6]]), array([[ 7,  8,  9],\n",
      "       [10, 11, 12]]), array([[13, 14, 15]]), array([[16, 17, 18]])]\n"
     ]
    }
   ],
   "source": [
    "#Split the 2-D array \n",
    "a=np.array([[1, 2, 3], [4, 5, 6], [7, 8, 9], [10, 11, 12], [13, 14, 15], [16, 17, 18]])\n",
    "a1= np.array_split(a,4)\n",
    "print(a1)"
   ]
  },
  {
   "cell_type": "code",
   "execution_count": 49,
   "id": "3bcee3e4",
   "metadata": {},
   "outputs": [
    {
     "name": "stdout",
     "output_type": "stream",
     "text": [
      "[array([[ 1],\n",
      "       [ 4],\n",
      "       [ 7],\n",
      "       [10],\n",
      "       [13],\n",
      "       [16]]), array([[ 2],\n",
      "       [ 5],\n",
      "       [ 8],\n",
      "       [11],\n",
      "       [14],\n",
      "       [17]]), array([[ 3],\n",
      "       [ 6],\n",
      "       [ 9],\n",
      "       [12],\n",
      "       [15],\n",
      "       [18]]), array([], shape=(6, 0), dtype=int32)]\n"
     ]
    }
   ],
   "source": [
    "#Split the 2-D array along rows\n",
    "a=np.array([[1, 2, 3], [4, 5, 6], [7, 8, 9], [10, 11, 12], [13, 14, 15], [16, 17, 18]])\n",
    "a1= np.array_split(a,4,axis=1)\n",
    "print(a1)"
   ]
  },
  {
   "cell_type": "code",
   "execution_count": 54,
   "id": "9aa9051c",
   "metadata": {},
   "outputs": [
    {
     "name": "stdout",
     "output_type": "stream",
     "text": [
      "[array([[ 1],\n",
      "       [ 4],\n",
      "       [ 7],\n",
      "       [10],\n",
      "       [13],\n",
      "       [16]]), array([[ 2],\n",
      "       [ 5],\n",
      "       [ 8],\n",
      "       [11],\n",
      "       [14],\n",
      "       [17]]), array([[ 3],\n",
      "       [ 6],\n",
      "       [ 9],\n",
      "       [12],\n",
      "       [15],\n",
      "       [18]])]\n"
     ]
    }
   ],
   "source": [
    "#Split the 2-D array along rows or horizontal\n",
    "a=np.array([[1, 2, 3], [4, 5, 6], [7, 8, 9], [10, 11, 12], [13, 14, 15], [16, 17, 18]])\n",
    "a1= np.hsplit(a,3)\n",
    "print(a1)"
   ]
  },
  {
   "cell_type": "markdown",
   "id": "f5c54f16",
   "metadata": {},
   "source": [
    "# Searching Arrays"
   ]
  },
  {
   "cell_type": "code",
   "execution_count": 17,
   "id": "548179a1",
   "metadata": {},
   "outputs": [
    {
     "name": "stdout",
     "output_type": "stream",
     "text": [
      "(array([3, 5, 6], dtype=int64),)\n"
     ]
    }
   ],
   "source": [
    "x = np.array([1, 2, 3, 4, 5, 4, 4])\n",
    "#element 4 is in the three index positions 3, 5,6\n",
    "x1 = np.where(x == 4)\n",
    "\n",
    "print(x1)\n"
   ]
  },
  {
   "cell_type": "code",
   "execution_count": 56,
   "id": "5be46f2e",
   "metadata": {},
   "outputs": [
    {
     "name": "stdout",
     "output_type": "stream",
     "text": [
      "(array([1, 3, 5, 6], dtype=int64),)\n"
     ]
    }
   ],
   "source": [
    "#Finding the elements in even indices\n",
    "x = np.array([1, 2, 3, 4, 5, 4, 4])\n",
    "#Displays the elements in the index position 0,2,4,6\n",
    "x1 = np.where(x %2 == 0)\n",
    "\n",
    "print(x1)"
   ]
  },
  {
   "cell_type": "code",
   "execution_count": 59,
   "id": "25a4033d",
   "metadata": {},
   "outputs": [
    {
     "name": "stdout",
     "output_type": "stream",
     "text": [
      "(array([0, 2, 4, 6], dtype=int64),)\n"
     ]
    }
   ],
   "source": [
    "#Finding the elements in odd indices\n",
    "x = np.array([1, 2, 3, 4, 5, 6, 7, 8])\n",
    "#Displays the elements in the index position 1,3,5\n",
    "x1 = np.where(x%2 == 1)\n",
    "\n",
    "print(x1)"
   ]
  },
  {
   "cell_type": "code",
   "execution_count": 21,
   "id": "4d93308e",
   "metadata": {},
   "outputs": [
    {
     "name": "stdout",
     "output_type": "stream",
     "text": [
      "4\n"
     ]
    }
   ],
   "source": [
    "#search the element and returns the index\n",
    "arr = np.array([67, 74, 62, 51])\n",
    "\n",
    "x = np.searchsorted(arr, 67)\n",
    "\n",
    "print(x)\n"
   ]
  },
  {
   "cell_type": "markdown",
   "id": "6caa6b44",
   "metadata": {},
   "source": [
    "# Sorting the array\n"
   ]
  },
  {
   "cell_type": "code",
   "execution_count": 67,
   "id": "3523e907",
   "metadata": {},
   "outputs": [
    {
     "name": "stdout",
     "output_type": "stream",
     "text": [
      "[12 34 56 89 93]\n"
     ]
    }
   ],
   "source": [
    "arr1 = np.array([56,34,89,93,12])\n",
    "\n",
    "print(np.sort(arr1))"
   ]
  },
  {
   "cell_type": "code",
   "execution_count": 68,
   "id": "b4775a66",
   "metadata": {},
   "outputs": [
    {
     "name": "stdout",
     "output_type": "stream",
     "text": [
      "['artificial intelligence' 'datascience' 'machine learning' 'python']\n"
     ]
    }
   ],
   "source": [
    "#strings are sorted alphabetically\n",
    "arr1 = np.array(['python', 'datascience', 'artificial intelligence','machine learning'])\n",
    "\n",
    "print(np.sort(arr1))"
   ]
  },
  {
   "cell_type": "code",
   "execution_count": 69,
   "id": "d69bfbb6",
   "metadata": {},
   "outputs": [
    {
     "name": "stdout",
     "output_type": "stream",
     "text": [
      "[False  True  True]\n"
     ]
    }
   ],
   "source": [
    "#booleans are sorted false as first\n",
    "\n",
    "arr = np.array([True, False, True])\n",
    "\n",
    "print(np.sort(arr))"
   ]
  },
  {
   "cell_type": "code",
   "execution_count": 70,
   "id": "d1c2300f",
   "metadata": {},
   "outputs": [
    {
     "name": "stdout",
     "output_type": "stream",
     "text": [
      "[[2 3 4]\n",
      " [0 1 5]]\n"
     ]
    }
   ],
   "source": [
    "#Sort a 2-D array\n",
    "a = np.array([[3, 2, 4], [5, 0, 1]])\n",
    "\n",
    "print(np.sort(a))"
   ]
  },
  {
   "cell_type": "markdown",
   "id": "ac90222e",
   "metadata": {},
   "source": [
    "#                                  LINEAR ALGEBRA"
   ]
  },
  {
   "cell_type": "markdown",
   "id": "a71fd47b",
   "metadata": {},
   "source": [
    "# Dot product of the two arrays"
   ]
  },
  {
   "cell_type": "code",
   "execution_count": 9,
   "id": "0f82ddef",
   "metadata": {},
   "outputs": [
    {
     "data": {
      "text/plain": [
       "array([[19, 22],\n",
       "       [43, 50]])"
      ]
     },
     "execution_count": 9,
     "metadata": {},
     "output_type": "execute_result"
    }
   ],
   "source": [
    "x = np.array([[1,2],[3,4]]) \n",
    "y = np.array([[5,6],[7,8]]) \n",
    "np.dot(x,y)"
   ]
  },
  {
   "cell_type": "markdown",
   "id": "c343e596",
   "metadata": {},
   "source": [
    "# Dot product of the two vectors"
   ]
  },
  {
   "cell_type": "code",
   "execution_count": 10,
   "id": "24258f66",
   "metadata": {},
   "outputs": [
    {
     "data": {
      "text/plain": [
       "70"
      ]
     },
     "execution_count": 10,
     "metadata": {},
     "output_type": "execute_result"
    }
   ],
   "source": [
    "x = np.array([[1,2],[3,4]]) \n",
    "y = np.array([[5,6],[7,8]]) \n",
    "np.vdot(x,y)"
   ]
  },
  {
   "cell_type": "code",
   "execution_count": 16,
   "id": "72171481",
   "metadata": {},
   "outputs": [
    {
     "name": "stdout",
     "output_type": "stream",
     "text": [
      "[[1 2]\n",
      " [3 4]]\n",
      "[[11 12]\n",
      " [13 14]]\n",
      "Inner product:\n",
      "[[35 41]\n",
      " [81 95]]\n"
     ]
    }
   ],
   "source": [
    "x = np.array([[1,2], [3,4]]) \n",
    "print(x)\n",
    "y = np.array([[11, 12], [13, 14]]) \n",
    "print(y)\n",
    "\n",
    "print ('Inner product:' )\n",
    "print (np.inner(x,y))"
   ]
  },
  {
   "cell_type": "markdown",
   "id": "4c0921ed",
   "metadata": {},
   "source": [
    "#  inverse of a matrix"
   ]
  },
  {
   "cell_type": "code",
   "execution_count": 2,
   "id": "65a324fb",
   "metadata": {},
   "outputs": [
    {
     "data": {
      "text/plain": [
       "array([[-2. ,  1. ],\n",
       "       [ 1.5, -0.5]])"
      ]
     },
     "execution_count": 2,
     "metadata": {},
     "output_type": "execute_result"
    }
   ],
   "source": [
    "x = np.array([[1,2],[3,4]]) \n",
    "y = np.linalg.inv(x) \n",
    "y"
   ]
  },
  {
   "cell_type": "code",
   "execution_count": null,
   "id": "79a9c6c4",
   "metadata": {},
   "outputs": [],
   "source": []
  },
  {
   "cell_type": "code",
   "execution_count": null,
   "id": "063a2589",
   "metadata": {},
   "outputs": [],
   "source": []
  },
  {
   "cell_type": "markdown",
   "id": "66478a0b",
   "metadata": {},
   "source": [
    "# Determinant of Matrix\n"
   ]
  },
  {
   "cell_type": "code",
   "execution_count": 3,
   "id": "34b878c4",
   "metadata": {},
   "outputs": [
    {
     "data": {
      "text/plain": [
       "-2.0000000000000004"
      ]
     },
     "execution_count": 3,
     "metadata": {},
     "output_type": "execute_result"
    }
   ],
   "source": [
    "# Determinant  [[a,b], [c,d]], = ‘ad-bc’\n",
    "a=np.array([[1,2],[3,4]])\n",
    "np.linalg.det(a)"
   ]
  },
  {
   "cell_type": "code",
   "execution_count": 4,
   "id": "e87f4d3a",
   "metadata": {},
   "outputs": [
    {
     "data": {
      "text/plain": [
       "-2"
      ]
     },
     "execution_count": 4,
     "metadata": {},
     "output_type": "execute_result"
    }
   ],
   "source": [
    "round(np.linalg.det(a))\n"
   ]
  },
  {
   "cell_type": "code",
   "execution_count": 5,
   "id": "51e3060d",
   "metadata": {},
   "outputs": [
    {
     "data": {
      "text/plain": [
       "-9.51619735392994e-16"
      ]
     },
     "execution_count": 5,
     "metadata": {},
     "output_type": "execute_result"
    }
   ],
   "source": [
    "b=np.array([[1,2,3],[4,5,6],[7,8,9]])\n",
    "np.linalg.det(b)"
   ]
  },
  {
   "cell_type": "code",
   "execution_count": 6,
   "id": "4f352ec7",
   "metadata": {},
   "outputs": [
    {
     "data": {
      "text/plain": [
       "0"
      ]
     },
     "execution_count": 6,
     "metadata": {},
     "output_type": "execute_result"
    }
   ],
   "source": [
    "round(np.linalg.det(b))"
   ]
  },
  {
   "cell_type": "markdown",
   "id": "e3fa041f",
   "metadata": {},
   "source": [
    "# Solve Linear Equation Using NumPy"
   ]
  },
  {
   "cell_type": "code",
   "execution_count": 3,
   "id": "25cc34fd",
   "metadata": {},
   "outputs": [
    {
     "data": {
      "text/plain": [
       "array([2., 3.])"
      ]
     },
     "execution_count": 3,
     "metadata": {},
     "output_type": "execute_result"
    }
   ],
   "source": [
    "a= np.array([[3,1],[1,2]])\n",
    "b=np.array([9,8])\n",
    "np.linalg.solve(a,b)"
   ]
  },
  {
   "cell_type": "markdown",
   "id": "9ffaa06a",
   "metadata": {},
   "source": [
    "# Statistical Functions"
   ]
  },
  {
   "cell_type": "code",
   "execution_count": 2,
   "id": "f81583df",
   "metadata": {},
   "outputs": [
    {
     "name": "stdout",
     "output_type": "stream",
     "text": [
      "5\n",
      "56\n"
     ]
    }
   ],
   "source": [
    "#Finding minimum  and max value element in an array\n",
    "a= np.array([[5,10,15],[21,23,25],[56,36,26]])  \n",
    "#print(a)\n",
    "print(np.amin(a))\n",
    "\n",
    "print(np.amax(a))"
   ]
  },
  {
   "cell_type": "code",
   "execution_count": 6,
   "id": "f0199a6c",
   "metadata": {},
   "outputs": [
    {
     "name": "stdout",
     "output_type": "stream",
     "text": [
      "30.0\n"
     ]
    }
   ],
   "source": [
    "#Mean- Sum of all elements divided by the no of elements\n",
    "a= np.array([10,20,50,40])\n",
    "print(np.mean(a))"
   ]
  },
  {
   "cell_type": "code",
   "execution_count": 14,
   "id": "18bab500",
   "metadata": {},
   "outputs": [
    {
     "name": "stdout",
     "output_type": "stream",
     "text": [
      "20.0\n"
     ]
    }
   ],
   "source": [
    "#median - middle element if no of elements are oddS\n",
    "a= np.array([10,20,50])\n",
    "print(np.median(a))"
   ]
  },
  {
   "cell_type": "code",
   "execution_count": 10,
   "id": "df6d33f8",
   "metadata": {},
   "outputs": [
    {
     "name": "stdout",
     "output_type": "stream",
     "text": [
      "[5 6 7 8]\n",
      "6.5\n"
     ]
    }
   ],
   "source": [
    "#median - middle element if no of elements are even\n",
    "a = np.array([5,6,7,8]) \n",
    "print(a)\n",
    "print(np.median(a))"
   ]
  },
  {
   "attachments": {
    "image.png": {
     "image/png": "[encoded data removed]"
    }
   },
   "cell_type": "markdown",
   "id": "7e047025",
   "metadata": {},
   "source": [
    "![image.png](attachment:image.png)"
   ]
  },
  {
   "cell_type": "code",
   "execution_count": 17,
   "id": "f37eee7a",
   "metadata": {},
   "outputs": [
    {
     "name": "stdout",
     "output_type": "stream",
     "text": [
      "[1 2 3]\n",
      "0.816496580927726\n"
     ]
    }
   ],
   "source": [
    "#Standard devaition- 1. calculate mean 2.std devaition\n",
    "a = np.array([1,2,3]) \n",
    "print(a)\n",
    "print(np.std(a))"
   ]
  },
  {
   "attachments": {
    "image.png": {
     "image/png": "[encoded data removed]"
    }
   },
   "cell_type": "markdown",
   "id": "b2d1136f",
   "metadata": {},
   "source": [
    "![image.png](attachment:image.png)"
   ]
  },
  {
   "cell_type": "code",
   "execution_count": 19,
   "id": "15839c79",
   "metadata": {},
   "outputs": [
    {
     "name": "stdout",
     "output_type": "stream",
     "text": [
      "[1 2 3]\n",
      "0.6666666666666666\n"
     ]
    }
   ],
   "source": [
    "#variance\n",
    "a = np.array([1,2,3]) \n",
    "print(a)\n",
    "print(np.var(a))"
   ]
  },
  {
   "cell_type": "code",
   "execution_count": 22,
   "id": "ce2e39b5",
   "metadata": {},
   "outputs": [
    {
     "name": "stdout",
     "output_type": "stream",
     "text": [
      "[5 6 7]\n",
      "6.0\n"
     ]
    }
   ],
   "source": [
    "#Average - same as mean\n",
    "a = np.array([5,6,7]) \n",
    "print(a)\n",
    "\n",
    "print(np.average(a))\n"
   ]
  },
  {
   "cell_type": "code",
   "execution_count": 4,
   "id": "67b230c5",
   "metadata": {},
   "outputs": [
    {
     "name": "stdout",
     "output_type": "stream",
     "text": [
      "[ 2 10 20 56 34 90 78 98 32]\n",
      "34.0\n"
     ]
    }
   ],
   "source": [
    "#Percentile Function :describes the value that a given percent of the values are lower than.\n",
    "a = np.array([2,10,20,56,34,90,78,98,32])  \n",
    "print(a)  \n",
    "print(np.percentile(a,50))"
   ]
  },
  {
   "cell_type": "code",
   "execution_count": 25,
   "id": "0d251c4d",
   "metadata": {},
   "outputs": [
    {
     "name": "stdout",
     "output_type": "stream",
     "text": [
      "[14  3  4]\n"
     ]
    }
   ],
   "source": [
    "#Peak-to-Peak Function: determine the range of values along an axis.\n",
    "a = np.array([[20,10,30],[6,7,34]])  \n",
    "print(np.ptp(a,0))"
   ]
  },
  {
   "cell_type": "code",
   "execution_count": null,
   "id": "da5bd662",
   "metadata": {},
   "outputs": [],
   "source": []
  }
 ],
 "metadata": {
  "kernelspec": {
   "display_name": "Python 3 (ipykernel)",
   "language": "python",
   "name": "python3"
  },
  "language_info": {
   "codemirror_mode": {
    "name": "ipython",
    "version": 3
   },
   "file_extension": ".py",
   "mimetype": "text/x-python",
   "name": "python",
   "nbconvert_exporter": "python",
   "pygments_lexer": "ipython3",
   "version": "3.10.1"
  }
 },
 "nbformat": 4,
 "nbformat_minor": 5
}
